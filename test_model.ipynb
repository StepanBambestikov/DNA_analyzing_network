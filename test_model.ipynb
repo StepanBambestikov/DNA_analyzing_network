{
 "cells": [
  {
   "cell_type": "code",
   "execution_count": 2,
   "id": "e5996a1f",
   "metadata": {},
   "outputs": [],
   "source": [
    "import torch\n",
    "import torch.optim as optim\n",
    "import torch.nn as nn\n",
    "\n",
    "import dataset_maker as ds\n",
    "import data_loader as loaders_handler\n",
    "import network_model_service as nn_service\n",
    "import plot_manager as pl\n",
    "\n",
    "import network_classes as networks\n",
    "import parameters as constant"
   ]
  },
  {
   "cell_type": "code",
   "execution_count": 4,
   "id": "92bbbdc7",
   "metadata": {},
   "outputs": [
    {
     "data": {
      "text/plain": [
       "<All keys matched successfully>"
      ]
     },
     "execution_count": 4,
     "metadata": {},
     "output_type": "execute_result"
    }
   ],
   "source": [
    "nn_model = networks.SimpleNetwork()\n",
    "nn_model.load_state_dict(torch.load(\"dH_model\"))"
   ]
  },
  {
   "cell_type": "code",
   "execution_count": 5,
   "id": "c7a00fd4",
   "metadata": {},
   "outputs": [],
   "source": [
    "butch_size = 64\n",
    "epoch_number = 400\n",
    "dataset = ds.get_dataset_from_excel_file(\"ML_Stepan.xlsx\", label_column_number=constant.dH_column_number,\n",
    "                                             begin_feature_column=constant.begin_feature_column,\n",
    "                                             end_feature_column=constant.end_feature_column,\n",
    "                                             dna_to_numeric_strategy=None, first_row=constant.first_row)\n",
    "train_loader, val_loader = loaders_handler.get_train_and_val_loaders(dataset, butch_size)\n",
    "butch, ground_truth_labels = next(iter(val_loader))\n"
   ]
  },
  {
   "cell_type": "code",
   "execution_count": 7,
   "id": "7e989920",
   "metadata": {},
   "outputs": [
    {
     "data": {
      "text/plain": [
       "tensor([[-113.1516, -115.2000],\n",
       "        [ -50.6165,  -59.6000],\n",
       "        [ -94.5640,  -89.9000],\n",
       "        [ -57.1960,  -57.7000],\n",
       "        [ -56.9722,  -60.7000],\n",
       "        [ -61.2815,  -63.5000],\n",
       "        [ -63.3834,  -60.0000],\n",
       "        [-112.1501, -104.4000],\n",
       "        [ -50.3690,  -49.2000],\n",
       "        [ -62.4384,  -61.6000],\n",
       "        [ -64.2676,  -60.4000],\n",
       "        [ -60.9432,  -60.6000],\n",
       "        [ -55.1495,  -50.2000],\n",
       "        [ -61.9482,  -68.8000],\n",
       "        [-117.7092, -104.4000],\n",
       "        [ -57.9408,  -57.0000],\n",
       "        [ -62.4384,  -61.6000],\n",
       "        [ -61.5580,  -62.6000],\n",
       "        [ -63.9127,  -66.2000],\n",
       "        [ -60.9432,  -67.9000],\n",
       "        [ -89.1698,  -93.7000],\n",
       "        [ -64.2676,  -71.0000],\n",
       "        [ -64.1019,  -67.5000],\n",
       "        [ -66.5025,  -64.1000],\n",
       "        [ -59.0515,  -57.6000],\n",
       "        [ -47.7542,  -38.6000],\n",
       "        [ -49.1345,  -50.7000],\n",
       "        [ -52.7683,  -51.7000],\n",
       "        [ -61.9129,  -58.5000],\n",
       "        [ -71.2245,  -67.4000],\n",
       "        [ -58.5914,  -56.8000],\n",
       "        [ -46.0148,  -40.4000],\n",
       "        [ -50.8072,  -47.0000],\n",
       "        [ -62.9529,  -63.2000],\n",
       "        [ -63.5667,  -62.6000],\n",
       "        [ -61.9482,  -61.4000],\n",
       "        [ -63.1394,  -58.7000],\n",
       "        [-115.5567, -119.2000],\n",
       "        [ -71.6347,  -76.3000],\n",
       "        [ -62.1766,  -62.8000],\n",
       "        [ -60.7476,  -61.4000],\n",
       "        [ -62.4384,  -64.7000],\n",
       "        [ -61.2815,  -59.3000],\n",
       "        [ -65.4588,  -62.3000],\n",
       "        [ -59.5418,  -57.9000],\n",
       "        [ -58.4830,  -59.8000],\n",
       "        [ -45.1036,  -42.5000],\n",
       "        [ -43.6715,  -37.0000],\n",
       "        [ -58.7746,  -60.0000],\n",
       "        [ -44.6638,  -43.1000],\n",
       "        [ -95.6411, -102.8000],\n",
       "        [-110.9854, -116.1000],\n",
       "        [ -54.6157,  -54.6000],\n",
       "        [ -71.2245,  -70.1000],\n",
       "        [ -65.0675,  -60.9000],\n",
       "        [ -48.7425,  -46.3000],\n",
       "        [-116.9941, -123.4000],\n",
       "        [ -70.2760,  -74.7000],\n",
       "        [ -62.9529,  -61.4000],\n",
       "        [ -58.7785,  -58.3000]], grad_fn=<CatBackward0>)"
      ]
     },
     "execution_count": 7,
     "metadata": {},
     "output_type": "execute_result"
    }
   ],
   "source": [
    "prediction = nn_model(butch)\n",
    "torch.mean(torch.abs(prediction - ground_truth_labels))\n",
    "torch.concatenate((prediction, ground_truth_labels), axis=1)"
   ]
  }
 ],
 "metadata": {
  "kernelspec": {
   "display_name": "Python 3 (ipykernel)",
   "language": "python",
   "name": "python3"
  },
  "language_info": {
   "codemirror_mode": {
    "name": "ipython",
    "version": 3
   },
   "file_extension": ".py",
   "mimetype": "text/x-python",
   "name": "python",
   "nbconvert_exporter": "python",
   "pygments_lexer": "ipython3",
   "version": "3.9.13"
  }
 },
 "nbformat": 4,
 "nbformat_minor": 5
}
