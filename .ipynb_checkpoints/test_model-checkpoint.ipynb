{
 "cells": [
  {
   "cell_type": "code",
   "execution_count": 4,
   "id": "e5996a1f",
   "metadata": {},
   "outputs": [],
   "source": [
    "import torch\n",
    "import torch.optim as optim\n",
    "import torch.nn as nn\n",
    "\n",
    "import dataset_maker as ds\n",
    "import data_loader as loaders_handler\n",
    "import network_model_service as nn_service\n",
    "import plot_manager as pl\n",
    "\n",
    "import network_classes as networks\n",
    "import parameters as constant"
   ]
  },
  {
   "cell_type": "code",
   "execution_count": 5,
   "id": "92bbbdc7",
   "metadata": {},
   "outputs": [
    {
     "data": {
      "text/plain": [
       "<All keys matched successfully>"
      ]
     },
     "execution_count": 5,
     "metadata": {},
     "output_type": "execute_result"
    }
   ],
   "source": [
    "nn_model = networks.SimpleNetwork()\n",
    "nn_model.load_state_dict(torch.load(\"dH_model\"))"
   ]
  },
  {
   "cell_type": "code",
   "execution_count": 6,
   "id": "c7a00fd4",
   "metadata": {},
   "outputs": [],
   "source": [
    "butch_size = 64\n",
    "epoch_number = 400\n",
    "dataset = ds.get_dataset_from_excel_file(\"ML_Stepan.xlsx\", label_column_number=constant.dH_column_number,\n",
    "                                             begin_feature_column=constant.begin_feature_column,\n",
    "                                             end_feature_column=constant.end_feature_column,\n",
    "                                             dna_to_numeric_strategy=None, first_row=constant.first_row)\n",
    "train_loader, val_loader = loaders_handler.get_train_and_val_loaders(dataset, butch_size)\n",
    "butch, ground_truth_labels = next(iter(val_loader))\n"
   ]
  },
  {
   "cell_type": "code",
   "execution_count": 8,
   "id": "7e989920",
   "metadata": {},
   "outputs": [
    {
     "data": {
      "text/plain": [
       "tensor(3.3505, grad_fn=<MeanBackward0>)"
      ]
     },
     "execution_count": 8,
     "metadata": {},
     "output_type": "execute_result"
    }
   ],
   "source": [
    "prediction = nn_model(butch)\n",
    "torch.mean(torch.abs(prediction - ground_truth_labels))"
   ]
  }
 ],
 "metadata": {
  "kernelspec": {
   "display_name": "Python 3 (ipykernel)",
   "language": "python",
   "name": "python3"
  },
  "language_info": {
   "codemirror_mode": {
    "name": "ipython",
    "version": 3
   },
   "file_extension": ".py",
   "mimetype": "text/x-python",
   "name": "python",
   "nbconvert_exporter": "python",
   "pygments_lexer": "ipython3",
   "version": "3.9.13"
  }
 },
 "nbformat": 4,
 "nbformat_minor": 5
}
